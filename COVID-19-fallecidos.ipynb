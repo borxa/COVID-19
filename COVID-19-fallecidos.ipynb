{
 "cells": [
  {
   "cell_type": "code",
   "execution_count": 49,
   "metadata": {},
   "outputs": [],
   "source": [
    "import numpy as np\n",
    "import pandas as pd\n",
    "import io\n",
    "import requests\n",
    "import matplotlib.pyplot as plt\n",
    "from scipy.optimize import curve_fit\n",
    "from scipy.special import erf"
   ]
  },
  {
   "cell_type": "code",
   "execution_count": 50,
   "metadata": {},
   "outputs": [],
   "source": [
    "url=\"https://covid19.isciii.es/resources/serie_historica_acumulados.csv\"\n",
    "t=requests.get(url).text\n",
    "s=t.split(\"NOTA\")[0]"
   ]
  },
  {
   "cell_type": "code",
   "execution_count": 51,
   "metadata": {},
   "outputs": [],
   "source": [
    "#df=pd.read_csv('serie_historica_acumulados.csv', parse_dates=True)"
   ]
  },
  {
   "cell_type": "code",
   "execution_count": 52,
   "metadata": {},
   "outputs": [],
   "source": [
    "df=pd.read_csv(io.StringIO(s), parse_dates=True)"
   ]
  },
  {
   "cell_type": "code",
   "execution_count": 53,
   "metadata": {},
   "outputs": [],
   "source": [
    "df.fillna(0, inplace=True)"
   ]
  },
  {
   "cell_type": "code",
   "execution_count": 54,
   "metadata": {},
   "outputs": [],
   "source": [
    "df['FECHA'] = pd.to_datetime(df['FECHA'],dayfirst=True)"
   ]
  },
  {
   "cell_type": "code",
   "execution_count": 55,
   "metadata": {},
   "outputs": [
    {
     "data": {
      "text/html": [
       "<div>\n",
       "<style scoped>\n",
       "    .dataframe tbody tr th:only-of-type {\n",
       "        vertical-align: middle;\n",
       "    }\n",
       "\n",
       "    .dataframe tbody tr th {\n",
       "        vertical-align: top;\n",
       "    }\n",
       "\n",
       "    .dataframe thead th {\n",
       "        text-align: right;\n",
       "    }\n",
       "</style>\n",
       "<table border=\"1\" class=\"dataframe\">\n",
       "  <thead>\n",
       "    <tr style=\"text-align: right;\">\n",
       "      <th></th>\n",
       "      <th>CCAA</th>\n",
       "      <th>FECHA</th>\n",
       "      <th>CASOS</th>\n",
       "      <th>Hospitalizados</th>\n",
       "      <th>UCI</th>\n",
       "      <th>Fallecidos</th>\n",
       "      <th>Recuperados</th>\n",
       "    </tr>\n",
       "  </thead>\n",
       "  <tbody>\n",
       "    <tr>\n",
       "      <th>0</th>\n",
       "      <td>AN</td>\n",
       "      <td>2020-02-20</td>\n",
       "      <td>0.0</td>\n",
       "      <td>0.0</td>\n",
       "      <td>0.0</td>\n",
       "      <td>0.0</td>\n",
       "      <td>0.0</td>\n",
       "    </tr>\n",
       "    <tr>\n",
       "      <th>1</th>\n",
       "      <td>AR</td>\n",
       "      <td>2020-02-20</td>\n",
       "      <td>0.0</td>\n",
       "      <td>0.0</td>\n",
       "      <td>0.0</td>\n",
       "      <td>0.0</td>\n",
       "      <td>0.0</td>\n",
       "    </tr>\n",
       "    <tr>\n",
       "      <th>2</th>\n",
       "      <td>AS</td>\n",
       "      <td>2020-02-20</td>\n",
       "      <td>0.0</td>\n",
       "      <td>0.0</td>\n",
       "      <td>0.0</td>\n",
       "      <td>0.0</td>\n",
       "      <td>0.0</td>\n",
       "    </tr>\n",
       "    <tr>\n",
       "      <th>3</th>\n",
       "      <td>IB</td>\n",
       "      <td>2020-02-20</td>\n",
       "      <td>1.0</td>\n",
       "      <td>0.0</td>\n",
       "      <td>0.0</td>\n",
       "      <td>0.0</td>\n",
       "      <td>0.0</td>\n",
       "    </tr>\n",
       "    <tr>\n",
       "      <th>4</th>\n",
       "      <td>CN</td>\n",
       "      <td>2020-02-20</td>\n",
       "      <td>1.0</td>\n",
       "      <td>0.0</td>\n",
       "      <td>0.0</td>\n",
       "      <td>0.0</td>\n",
       "      <td>0.0</td>\n",
       "    </tr>\n",
       "    <tr>\n",
       "      <th>...</th>\n",
       "      <td>...</td>\n",
       "      <td>...</td>\n",
       "      <td>...</td>\n",
       "      <td>...</td>\n",
       "      <td>...</td>\n",
       "      <td>...</td>\n",
       "      <td>...</td>\n",
       "    </tr>\n",
       "    <tr>\n",
       "      <th>983</th>\n",
       "      <td>ML</td>\n",
       "      <td>2020-04-11</td>\n",
       "      <td>98.0</td>\n",
       "      <td>43.0</td>\n",
       "      <td>3.0</td>\n",
       "      <td>2.0</td>\n",
       "      <td>18.0</td>\n",
       "    </tr>\n",
       "    <tr>\n",
       "      <th>984</th>\n",
       "      <td>MC</td>\n",
       "      <td>2020-04-11</td>\n",
       "      <td>1449.0</td>\n",
       "      <td>537.0</td>\n",
       "      <td>91.0</td>\n",
       "      <td>97.0</td>\n",
       "      <td>344.0</td>\n",
       "    </tr>\n",
       "    <tr>\n",
       "      <th>985</th>\n",
       "      <td>NC</td>\n",
       "      <td>2020-04-11</td>\n",
       "      <td>3969.0</td>\n",
       "      <td>1663.0</td>\n",
       "      <td>124.0</td>\n",
       "      <td>232.0</td>\n",
       "      <td>650.0</td>\n",
       "    </tr>\n",
       "    <tr>\n",
       "      <th>986</th>\n",
       "      <td>PV</td>\n",
       "      <td>2020-04-11</td>\n",
       "      <td>10772.0</td>\n",
       "      <td>5547.0</td>\n",
       "      <td>459.0</td>\n",
       "      <td>804.0</td>\n",
       "      <td>4867.0</td>\n",
       "    </tr>\n",
       "    <tr>\n",
       "      <th>987</th>\n",
       "      <td>RI</td>\n",
       "      <td>2020-04-11</td>\n",
       "      <td>3279.0</td>\n",
       "      <td>1122.0</td>\n",
       "      <td>73.0</td>\n",
       "      <td>219.0</td>\n",
       "      <td>1420.0</td>\n",
       "    </tr>\n",
       "  </tbody>\n",
       "</table>\n",
       "<p>988 rows × 7 columns</p>\n",
       "</div>"
      ],
      "text/plain": [
       "    CCAA      FECHA    CASOS  Hospitalizados    UCI  Fallecidos  Recuperados\n",
       "0     AN 2020-02-20      0.0             0.0    0.0         0.0          0.0\n",
       "1     AR 2020-02-20      0.0             0.0    0.0         0.0          0.0\n",
       "2     AS 2020-02-20      0.0             0.0    0.0         0.0          0.0\n",
       "3     IB 2020-02-20      1.0             0.0    0.0         0.0          0.0\n",
       "4     CN 2020-02-20      1.0             0.0    0.0         0.0          0.0\n",
       "..   ...        ...      ...             ...    ...         ...          ...\n",
       "983   ML 2020-04-11     98.0            43.0    3.0         2.0         18.0\n",
       "984   MC 2020-04-11   1449.0           537.0   91.0        97.0        344.0\n",
       "985   NC 2020-04-11   3969.0          1663.0  124.0       232.0        650.0\n",
       "986   PV 2020-04-11  10772.0          5547.0  459.0       804.0       4867.0\n",
       "987   RI 2020-04-11   3279.0          1122.0   73.0       219.0       1420.0\n",
       "\n",
       "[988 rows x 7 columns]"
      ]
     },
     "execution_count": 55,
     "metadata": {},
     "output_type": "execute_result"
    }
   ],
   "source": [
    "df"
   ]
  },
  {
   "cell_type": "code",
   "execution_count": 56,
   "metadata": {},
   "outputs": [],
   "source": [
    "df = df.groupby('FECHA')['Fallecidos'].sum().to_frame()"
   ]
  },
  {
   "cell_type": "code",
   "execution_count": 57,
   "metadata": {},
   "outputs": [],
   "source": [
    "df=df.sort_values(by='Fallecidos')"
   ]
  },
  {
   "cell_type": "code",
   "execution_count": 58,
   "metadata": {},
   "outputs": [],
   "source": [
    "df['Index'] = range(1, len(df) + 1)"
   ]
  },
  {
   "cell_type": "code",
   "execution_count": 59,
   "metadata": {},
   "outputs": [],
   "source": [
    "df=df.set_index('Index')"
   ]
  },
  {
   "cell_type": "code",
   "execution_count": 60,
   "metadata": {},
   "outputs": [],
   "source": [
    "df['Dif. fallecidos'] = df['Fallecidos'] - df['Fallecidos'].shift(1)"
   ]
  },
  {
   "cell_type": "code",
   "execution_count": 61,
   "metadata": {},
   "outputs": [],
   "source": [
    "df.fillna(0, inplace=True)"
   ]
  },
  {
   "cell_type": "code",
   "execution_count": 62,
   "metadata": {},
   "outputs": [],
   "source": [
    "df.drop('Fallecidos', axis=1, inplace=True)"
   ]
  },
  {
   "cell_type": "code",
   "execution_count": 63,
   "metadata": {},
   "outputs": [
    {
     "data": {
      "text/plain": [
       "<matplotlib.axes._subplots.AxesSubplot at 0x7efc73a5a590>"
      ]
     },
     "execution_count": 63,
     "metadata": {},
     "output_type": "execute_result"
    },
    {
     "data": {
      "image/png": "[encoded data removed]",
      "text/plain": [
       "<Figure size 432x288 with 1 Axes>"
      ]
     },
     "metadata": {},
     "output_type": "display_data"
    }
   ],
   "source": [
    "df.plot()"
   ]
  },
  {
   "cell_type": "code",
   "execution_count": 64,
   "metadata": {},
   "outputs": [],
   "source": [
    "yData=df[df['Dif. fallecidos']>0].to_numpy()\n",
    "yData=yData.reshape(yData.size)\n",
    "xData=np.arange(yData.size)"
   ]
  },
  {
   "cell_type": "code",
   "execution_count": 65,
   "metadata": {},
   "outputs": [
    {
     "data": {
      "text/plain": [
       "array([ 28.,   8.,  12.,  36.,  36.,  14., 151.,  21., 185., 107., 169.,\n",
       "       215., 344., 394., 462., 514., 738., 655., 769., 887., 794., 801.,\n",
       "       849., 864., 950., 932., 809., 674., 637., 743., 757., 683., 605.,\n",
       "       510., 619.])"
      ]
     },
     "execution_count": 65,
     "metadata": {},
     "output_type": "execute_result"
    }
   ],
   "source": [
    "yData"
   ]
  },
  {
   "cell_type": "code",
   "execution_count": 66,
   "metadata": {},
   "outputs": [],
   "source": [
    "#Example of regression function - Polynomial\n",
    "#def func(x, a ,b, c, d):\n",
    "#    return a*np.exp(b*x)\n",
    "#    return a+ b*x + c*pow(x,2)+ d*pow(x,3) #+ e*pow(x,4) + f*pow(x,5) + g*pow(x,6)"
   ]
  },
  {
   "cell_type": "code",
   "execution_count": 67,
   "metadata": {},
   "outputs": [],
   "source": [
    "#Example of regression function\n",
    "#def func(x, amp, cen, wid):\n",
    "#    return amp * np.exp(-(x-cen)**2 / wid)"
   ]
  },
  {
   "cell_type": "code",
   "execution_count": 68,
   "metadata": {},
   "outputs": [],
   "source": [
    "#Regression function - skew normal\n",
    "def func(x, sigmag, mu, alpha,a):\n",
    "    c = 0\n",
    "    #normal distribution\n",
    "    normpdf = (1/(sigmag*np.sqrt(2*np.pi)))*np.exp(-(np.power((x-mu),2)/(2*np.power(sigmag,2))))\n",
    "    normcdf = (0.5*(1+erf((alpha*((x-mu)/sigmag))/(np.sqrt(2)))))\n",
    "    return 2*a*normpdf*normcdf + c"
   ]
  },
  {
   "cell_type": "code",
   "execution_count": 69,
   "metadata": {},
   "outputs": [
    {
     "name": "stdout",
     "output_type": "stream",
     "text": [
      "[1.75450656e+01 1.43910143e+01 3.43170606e+00 2.25169365e+04]\n",
      "[[ 3.66998544e+00 -8.76777825e-01  1.29613219e+00  2.35618036e+03]\n",
      " [-8.76777825e-01  2.76823738e-01 -3.31142085e-01 -5.29859159e+02]\n",
      " [ 1.29613219e+00 -3.31142085e-01  5.45768823e-01  7.65399011e+02]\n",
      " [ 2.35618036e+03 -5.29859159e+02  7.65399011e+02  1.72771289e+06]]\n"
     ]
    }
   ],
   "source": [
    "popt, pcov = curve_fit(func, xData, yData, p0=(1,1,1,20000))\n",
    "print(popt)\n",
    "print(pcov)"
   ]
  },
  {
   "cell_type": "code",
   "execution_count": 70,
   "metadata": {},
   "outputs": [],
   "source": [
    "xFit = np.arange(0.0, yData.size + 10, 1)"
   ]
  },
  {
   "cell_type": "code",
   "execution_count": 71,
   "metadata": {},
   "outputs": [
    {
     "data": {
      "image/png": "[encoded data removed]",
      "text/plain": [
       "<Figure size 432x288 with 1 Axes>"
      ]
     },
     "metadata": {},
     "output_type": "display_data"
    }
   ],
   "source": [
    "plt.style.use('seaborn-white')\n",
    "plt.bar(xData, yData, align='center', alpha=0.7)\n",
    "plt.plot(xFit, func(xFit, *popt), 'r')\n",
    "plt.show()"
   ]
  },
  {
   "cell_type": "code",
   "execution_count": 72,
   "metadata": {},
   "outputs": [
    {
     "data": {
      "text/plain": [
       "513"
      ]
     },
     "execution_count": 72,
     "metadata": {},
     "output_type": "execute_result"
    }
   ],
   "source": [
    "#Prediction for the next day:\n",
    "int(func(yData.size, *popt))"
   ]
  }
 ],
 "metadata": {
  "kernelspec": {
   "display_name": "Python 3",
   "language": "python",
   "name": "python3"
  },
  "language_info": {
   "codemirror_mode": {
    "name": "ipython",
    "version": 3
   },
   "file_extension": ".py",
   "mimetype": "text/x-python",
   "name": "python",
   "nbconvert_exporter": "python",
   "pygments_lexer": "ipython3",
   "version": "3.7.6"
  }
 },
 "nbformat": 4,
 "nbformat_minor": 4
}
